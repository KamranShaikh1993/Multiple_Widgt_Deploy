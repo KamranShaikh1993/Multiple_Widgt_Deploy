{
 "cells": [
  {
   "cell_type": "code",
   "execution_count": 1,
   "id": "f415c2b2",
   "metadata": {},
   "outputs": [],
   "source": [
    "# To read data from LinearRegression.pkl and StandardScaler.pkl file\n",
    "# Also to check if object of LinearRegression and ss(StandardScaler) is saved or not in this pickle file "
   ]
  },
  {
   "cell_type": "code",
   "execution_count": 2,
   "id": "fc35c1fb",
   "metadata": {},
   "outputs": [],
   "source": [
    "import pickle\n",
    "import warnings\n",
    "warnings.filterwarnings('ignore')"
   ]
  },
  {
   "cell_type": "code",
   "execution_count": 3,
   "id": "75561fd1",
   "metadata": {},
   "outputs": [],
   "source": [
    "file1 = open(\"Linear_Regression.pkl\",'rb')   # Open file in read binary format\n",
    "file2 = open(\"Standard_Scaler.pkl\",'rb')"
   ]
  },
  {
   "cell_type": "code",
   "execution_count": 4,
   "id": "27be8852",
   "metadata": {},
   "outputs": [],
   "source": [
    "model = pickle.load(file1)  # To read data from file1 and hold it in model object\n",
    "ss = pickle.load(file2)  # To read data from file2 and hold it in SS object"
   ]
  },
  {
   "cell_type": "code",
   "execution_count": null,
   "id": "0b345629",
   "metadata": {},
   "outputs": [],
   "source": []
  },
  {
   "cell_type": "code",
   "execution_count": 5,
   "id": "2a4363b9",
   "metadata": {},
   "outputs": [
    {
     "name": "stdout",
     "output_type": "stream",
     "text": [
      "Avg. Area Income35000\n",
      "35000.0\n",
      "Avg. Area House Age5\n",
      "5.0\n",
      "Avg. Area Number of Rooms5\n",
      "5.0\n",
      "Avg. Area Number of Bedrooms3\n",
      "Area Population25000\n",
      "Price of House  =  [1232402.80659849]\n"
     ]
    }
   ],
   "source": [
    "# # 5 i/p Columns\n",
    "# # Avg. Area Income, Avg. Area House Age , Avg. Area Number of Rooms,\n",
    "# #Avg. Area Number of Bedrooms, Area Population\n",
    "\n",
    "area_income = float(input('Avg. Area Income'))\n",
    "print(area_income)\n",
    "Avg_Area_House_Age = float(input('Avg. Area House Age'))\n",
    "print(Avg_Area_House_Age)\n",
    "Avg_Area_Number_of_Rooms = float(input('Avg. Area Number of Rooms'))\n",
    "print(Avg_Area_Number_of_Rooms)\n",
    "Avg_Area_Number_of_Bedrooms = float(input('Avg. Area Number of Bedrooms'))\n",
    "\n",
    "Area_Population = float(input('Area Population'))\n",
    "\n",
    "val_ss = ss.fit_transform([[area_income,Avg_Area_House_Age,Avg_Area_Number_of_Rooms,Avg_Area_Number_of_Bedrooms,Area_Population]])\n",
    "Y_pred=model.predict(val_ss)   # Y_pred=lr.predict([[pass input in 2D array]])\n",
    "print(\"Price of House  = \",Y_pred)"
   ]
  },
  {
   "cell_type": "code",
   "execution_count": 6,
   "id": "7b86c9a4",
   "metadata": {},
   "outputs": [
    {
     "name": "stdout",
     "output_type": "stream",
     "text": [
      "Price of House  =  [9.91492675e+09]\n"
     ]
    }
   ],
   "source": [
    "val_ss = ss.transform([[79545.45857 ,5.682861322,7.009188143,4.09,23086.8005]])\n",
    "Y_pred=model.predict(val_ss)   # Y_pred=lr.predict([[pass input in 2D array]])\n",
    "print(\"Price of House  = \",Y_pred)"
   ]
  },
  {
   "cell_type": "code",
   "execution_count": 7,
   "id": "18dcf6d7",
   "metadata": {},
   "outputs": [
    {
     "name": "stdout",
     "output_type": "stream",
     "text": [
      "Price of House  =  [1.24236355e+10]\n"
     ]
    }
   ],
   "source": [
    "val_ss = ss.transform([[79248.64245 ,6.002899808,6.730821019,3.09,40173.07217]])\n",
    "Y_pred=model.predict(val_ss)   # Y_pred=lr.predict([[pass input in 2D array]])\n",
    "print(\"Price of House  = \",Y_pred)"
   ]
  },
  {
   "cell_type": "code",
   "execution_count": 8,
   "id": "cede1e8e",
   "metadata": {},
   "outputs": [],
   "source": [
    "# 79545.45857 \t5.682861322 \t7.009188143\t 4.09\t23086.8005\n",
    "# area_income,Avg_Area_House_Age,Avg_Area_Number_of_Rooms,Avg_Area_Number_of_Bedrooms,Area_Population "
   ]
  },
  {
   "cell_type": "code",
   "execution_count": 9,
   "id": "154576c3",
   "metadata": {},
   "outputs": [],
   "source": [
    "def predict_price(features):    # predict_review is a user defined function\n",
    "    # This step will convert the input msg into numbers\n",
    "    val_ss = ss.transform([features])\n",
    "    result = model.predict(val_ss)[0]\n",
    "    return result\n"
   ]
  },
  {
   "cell_type": "code",
   "execution_count": 10,
   "id": "899de108",
   "metadata": {},
   "outputs": [
    {
     "data": {
      "text/plain": [
       "12423635460.256077"
      ]
     },
     "execution_count": 10,
     "metadata": {},
     "output_type": "execute_result"
    }
   ],
   "source": [
    "# Calling the function\n",
    "predict_price([79248.64245 ,6.002899808,6.730821019,3.09,40173.07217])"
   ]
  },
  {
   "cell_type": "code",
   "execution_count": null,
   "id": "c77c0338",
   "metadata": {},
   "outputs": [],
   "source": []
  },
  {
   "cell_type": "code",
   "execution_count": 11,
   "id": "9e05b567",
   "metadata": {},
   "outputs": [],
   "source": [
    "# message = area_income,Avg_Area_House_Age, Avg_Area_Number_of_Rooms, Avg_Area_Number_of_Bedrooms, Area_Population "
   ]
  },
  {
   "cell_type": "code",
   "execution_count": null,
   "id": "51a34fb7",
   "metadata": {},
   "outputs": [],
   "source": []
  }
 ],
 "metadata": {
  "kernelspec": {
   "display_name": "Python 3 (ipykernel)",
   "language": "python",
   "name": "python3"
  },
  "language_info": {
   "codemirror_mode": {
    "name": "ipython",
    "version": 3
   },
   "file_extension": ".py",
   "mimetype": "text/x-python",
   "name": "python",
   "nbconvert_exporter": "python",
   "pygments_lexer": "ipython3",
   "version": "3.9.13"
  }
 },
 "nbformat": 4,
 "nbformat_minor": 5
}
